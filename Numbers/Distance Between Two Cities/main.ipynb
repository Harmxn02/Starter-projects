{
 "cells": [
  {
   "cell_type": "code",
   "execution_count": 69,
   "metadata": {},
   "outputs": [],
   "source": [
    "import warnings\n",
    "\n",
    "warnings.filterwarnings(\"ignore\", category=FutureWarning)"
   ]
  },
  {
   "cell_type": "code",
   "execution_count": 70,
   "metadata": {},
   "outputs": [],
   "source": [
    "import pandas as pd\n",
    "df = pd.read_csv('data.csv', sep=';')"
   ]
  },
  {
   "cell_type": "markdown",
   "metadata": {},
   "source": [
    "##### Drop all rows without coordinates"
   ]
  },
  {
   "cell_type": "code",
   "execution_count": 71,
   "metadata": {},
   "outputs": [],
   "source": [
    "df = df[df['Longitude'] != '#FIELD!']\n",
    "\n",
    "\n",
    "df['Longitude'] = df['Longitude'].str.replace(',', '.')\n",
    "df['Latitude'] = df['Latitude'].str.replace(',', '.')\n",
    "\n",
    "df['Longitude'] = df['Longitude'].astype(float)\n",
    "df['Latitude'] = df['Latitude'].astype(float)"
   ]
  },
  {
   "cell_type": "code",
   "execution_count": 72,
   "metadata": {},
   "outputs": [
    {
     "name": "stdout",
     "output_type": "stream",
     "text": [
      "Supported countries:\n",
      "['Afghanistan' 'Albania' 'Algeria' 'Angola' 'Antigua and Barbuda'\n",
      " 'Australia' 'The Bahamas' 'Bahrain' 'Bangladesh' 'Barbados' 'Belgium'\n",
      " 'Belize' 'Benin' 'Bhutan' 'Bolivia' 'Bosnia and Herzegovina' 'Brazil'\n",
      " 'Brunei' 'Bulgaria' 'Burkina Faso' 'Burundi' 'Cameroon' 'Canada'\n",
      " 'Cape Verde' 'Chile' 'Comoros' 'Costa Rica' 'Cyprus' 'Denmark' 'Dominica'\n",
      " 'Dominican Republic' 'East Timor' 'Ecuador' 'Egypt' 'El Salvador'\n",
      " 'Equatorial Guinea' 'Eritrea' 'Estonia' 'Fiji' 'Finland' 'France' 'Gabon'\n",
      " 'Ghana' 'Greece' 'Grenada' 'Guatemala' 'Guyana' 'Haiti' 'Honduras'\n",
      " 'Iceland' 'Iran' 'Iraq' 'Republic of Ireland' 'Israel' 'Italy' 'Jamaica'\n",
      " 'Jordan' 'Kenya' 'Kiribati' 'Kosovo' 'Kuwait' 'Laos' 'Latvia' 'Lebanon'\n",
      " 'Lesotho' 'Liberia' 'Libya' 'Lithuania' 'Luxembourg' 'Madagascar'\n",
      " 'Malawi' 'Malta' 'Mauritania' 'Federated States of Micronesia' 'Monaco'\n",
      " 'Montenegro' 'Morocco' 'Myanmar' 'Namibia' 'Nepal' 'Netherlands'\n",
      " 'New Zealand' 'Nicaragua' 'Nigeria' 'Oman' 'Pakistan' 'Palau' 'Panama'\n",
      " 'Papua New Guinea' 'Peru' 'Philippines' 'Poland' 'Saint Kitts and Nevis'\n",
      " 'Saint Lucia' 'Saint Vincent and the Grenadines' 'Samoa'\n",
      " 'São Tomé and Príncipe' 'Saudi Arabia' 'Senegal' 'Seychelles'\n",
      " 'Sierra Leone' 'Slovakia' 'Slovenia' 'Somalia' 'South Africa'\n",
      " 'South Sudan' 'Spain' 'Sri Lanka' 'Sudan' 'Suriname' 'Eswatini' 'Sweden'\n",
      " 'Switzerland' 'Syria' 'Tanzania' 'Togo' 'Tonga' 'Tunisia' 'Turkey'\n",
      " 'United Arab Emirates' 'United Kingdom' 'Uruguay' 'Vanuatu' 'Venezuela'\n",
      " 'Zambia' 'Zimbabwe']\n"
     ]
    }
   ],
   "source": [
    "print(\"Supported countries:\")\n",
    "print(df['Countries'].unique())"
   ]
  },
  {
   "cell_type": "markdown",
   "metadata": {},
   "source": [
    "##### Function"
   ]
  },
  {
   "cell_type": "code",
   "execution_count": 73,
   "metadata": {},
   "outputs": [],
   "source": [
    "import geopy.distance"
   ]
  },
  {
   "cell_type": "code",
   "execution_count": 74,
   "metadata": {},
   "outputs": [],
   "source": [
    "def get_distance():\n",
    "    country1 = input(\"Enter the first country: \")\n",
    "    country2 = input(\"Enter the second country: \")\n",
    "\n",
    "    if country1 not in df['Countries'].values or country2 not in df['Countries'].values:\n",
    "        print(\"Invalid input\")\n",
    "        return\n",
    "\n",
    "    \n",
    "    lat1 = float(df[df['Countries'] == country1]['Latitude'])\n",
    "    lon1 = float(df[df['Countries'] == country1]['Longitude'])\n",
    "    lat2 = float(df[df['Countries'] == country2]['Latitude'])\n",
    "    lon2 = float(df[df['Countries'] == country2]['Longitude'])\n",
    "\n",
    "    coords_1 = (lat1, lon1)\n",
    "    coords_2 = (lat2, lon2)\n",
    "\n",
    "    distance = round(geopy.distance.geodesic(coords_1, coords_2).km, 2)\n",
    "\n",
    "    print(f\"The distance between {country1} and {country2} is {distance} km\")"
   ]
  },
  {
   "cell_type": "code",
   "execution_count": 75,
   "metadata": {},
   "outputs": [
    {
     "name": "stdout",
     "output_type": "stream",
     "text": [
      "The distance between Belgium and Australia is 16712.99 km\n"
     ]
    }
   ],
   "source": [
    "get_distance()"
   ]
  }
 ],
 "metadata": {
  "kernelspec": {
   "display_name": "Python 3",
   "language": "python",
   "name": "python3"
  },
  "language_info": {
   "codemirror_mode": {
    "name": "ipython",
    "version": 3
   },
   "file_extension": ".py",
   "mimetype": "text/x-python",
   "name": "python",
   "nbconvert_exporter": "python",
   "pygments_lexer": "ipython3",
   "version": "3.11.8"
  }
 },
 "nbformat": 4,
 "nbformat_minor": 2
}
